{
  "cells": [
    {
      "cell_type": "code",
      "execution_count": null,
      "id": "73e53cf5",
      "metadata": {
        "id": "73e53cf5"
      },
      "outputs": [],
      "source": [
        "import numpy as np"
      ]
    },
    {
      "cell_type": "code",
      "execution_count": null,
      "id": "6bc6c122",
      "metadata": {
        "id": "6bc6c122",
        "outputId": "708ea346-b4c3-467e-9a16-1b6bd915bb11"
      },
      "outputs": [
        {
          "data": {
            "text/plain": [
              "array([[1, 2, 3],\n",
              "       [4, 5, 6],\n",
              "       [7, 8, 9]])"
            ]
          },
          "execution_count": 2,
          "metadata": {},
          "output_type": "execute_result"
        }
      ],
      "source": [
        "array1=np.array([[1,2,3],[4,5,6],[7,8,9]])\n",
        "array1"
      ]
    },
    {
      "cell_type": "code",
      "execution_count": null,
      "id": "bb523ddc",
      "metadata": {
        "id": "bb523ddc",
        "outputId": "1a6a1607-327d-4489-bef9-7f627aff04f9"
      },
      "outputs": [
        {
          "data": {
            "text/plain": [
              "array([[11, 12, 13],\n",
              "       [14, 15, 16],\n",
              "       [17, 18, 19]])"
            ]
          },
          "execution_count": 4,
          "metadata": {},
          "output_type": "execute_result"
        }
      ],
      "source": [
        "array2=np.array([[11,12,13],[14,15,16],[17,18,19]])\n",
        "array2"
      ]
    },
    {
      "cell_type": "markdown",
      "id": "37329834",
      "metadata": {
        "id": "37329834"
      },
      "source": [
        "# 1. Matrix Operation\n",
        "## 1.1 Addition"
      ]
    },
    {
      "cell_type": "code",
      "execution_count": null,
      "id": "9ada1b73",
      "metadata": {
        "id": "9ada1b73",
        "outputId": "d1559088-d880-417d-8339-3e10f4ac9c05"
      },
      "outputs": [
        {
          "name": "stdout",
          "output_type": "stream",
          "text": [
            "\n",
            "Using Operator:\n",
            " [[12 14 16]\n",
            " [18 20 22]\n",
            " [24 26 28]]\n",
            "\n",
            "Using Numpy Function:\n",
            " [[12 14 16]\n",
            " [18 20 22]\n",
            " [24 26 28]]\n"
          ]
        }
      ],
      "source": [
        "resultarray=array1+array2\n",
        "print(\"\\nUsing Operator:\\n\",resultarray)\n",
        "resultarray=np.add(array1,array2)\n",
        "print(\"\\nUsing Numpy Function:\\n\",resultarray)"
      ]
    },
    {
      "cell_type": "markdown",
      "id": "48db338d",
      "metadata": {
        "id": "48db338d"
      },
      "source": [
        "## 1.2. Subtraction"
      ]
    },
    {
      "cell_type": "code",
      "execution_count": null,
      "id": "408a1fa7",
      "metadata": {
        "id": "408a1fa7",
        "outputId": "3c094fa4-48ec-42f2-e9bf-1856039c7143"
      },
      "outputs": [
        {
          "name": "stdout",
          "output_type": "stream",
          "text": [
            "\n",
            "Using Operator:\n",
            " [[-10 -10 -10]\n",
            " [-10 -10 -10]\n",
            " [-10 -10 -10]]\n",
            "\n",
            "Using Numpy Function:\n",
            " [[-10 -10 -10]\n",
            " [-10 -10 -10]\n",
            " [-10 -10 -10]]\n"
          ]
        }
      ],
      "source": [
        "resultarray=array1-array2\n",
        "print(\"\\nUsing Operator:\\n\",resultarray)\n",
        "resultarray=np.subtract(array1,array2)\n",
        "print(\"\\nUsing Numpy Function:\\n\",resultarray)"
      ]
    },
    {
      "cell_type": "markdown",
      "id": "de07f54f",
      "metadata": {
        "id": "de07f54f"
      },
      "source": [
        "## 1.3. Multiplication"
      ]
    },
    {
      "cell_type": "code",
      "execution_count": null,
      "id": "9f17e644",
      "metadata": {
        "id": "9f17e644",
        "outputId": "5bbce5ec-7751-4de7-97ad-07cb4aeda6be"
      },
      "outputs": [
        {
          "name": "stdout",
          "output_type": "stream",
          "text": [
            "\n",
            "Using Operator:\n",
            " [[ 11  24  39]\n",
            " [ 56  75  96]\n",
            " [119 144 171]]\n",
            "\n",
            "Using Numpy Function:\n",
            " [[ 11  24  39]\n",
            " [ 56  75  96]\n",
            " [119 144 171]]\n"
          ]
        }
      ],
      "source": [
        "resultarray=array1*array2\n",
        "print(\"\\nUsing Operator:\\n\",resultarray)\n",
        "resultarray=np.multiply(array1,array2)\n",
        "print(\"\\nUsing Numpy Function:\\n\",resultarray)"
      ]
    },
    {
      "cell_type": "markdown",
      "id": "9c94c0f3",
      "metadata": {
        "id": "9c94c0f3"
      },
      "source": [
        "## 1.4. Division"
      ]
    },
    {
      "cell_type": "code",
      "execution_count": null,
      "id": "affe667a",
      "metadata": {
        "id": "affe667a",
        "outputId": "fdbfe97a-49b9-49aa-bd54-2a2f50fe7442"
      },
      "outputs": [
        {
          "name": "stdout",
          "output_type": "stream",
          "text": [
            "\n",
            "Using Operator:\n",
            " [[0.09090909 0.16666667 0.23076923]\n",
            " [0.28571429 0.33333333 0.375     ]\n",
            " [0.41176471 0.44444444 0.47368421]]\n",
            "\n",
            "Using Numpy Function:\n",
            " [[0.09090909 0.16666667 0.23076923]\n",
            " [0.28571429 0.33333333 0.375     ]\n",
            " [0.41176471 0.44444444 0.47368421]]\n"
          ]
        }
      ],
      "source": [
        "resultarray=array1/array2\n",
        "print(\"\\nUsing Operator:\\n\",resultarray)\n",
        "resultarray=np.divide(array1,array2)\n",
        "print(\"\\nUsing Numpy Function:\\n\",resultarray)"
      ]
    },
    {
      "cell_type": "markdown",
      "id": "3a217521",
      "metadata": {
        "id": "3a217521"
      },
      "source": [
        "## 1.5. Mod"
      ]
    },
    {
      "cell_type": "code",
      "execution_count": null,
      "id": "e41518a3",
      "metadata": {
        "id": "e41518a3",
        "outputId": "97e894e1-3f06-45ec-f87e-cf5fa9a609ed"
      },
      "outputs": [
        {
          "name": "stdout",
          "output_type": "stream",
          "text": [
            "\n",
            "Using Operator:\n",
            " [[1 2 3]\n",
            " [4 5 6]\n",
            " [7 8 9]]\n",
            "\n",
            "Using Numpy Function:\n",
            " [[1 2 3]\n",
            " [4 5 6]\n",
            " [7 8 9]]\n"
          ]
        }
      ],
      "source": [
        "resultarray=array1%array2\n",
        "print(\"\\nUsing Operator:\\n\",resultarray)\n",
        "resultarray=np.mod(array1,array2)\n",
        "print(\"\\nUsing Numpy Function:\\n\",resultarray)"
      ]
    },
    {
      "cell_type": "markdown",
      "id": "5b4c483a",
      "metadata": {
        "id": "5b4c483a"
      },
      "source": [
        "## 1.6. dot Product"
      ]
    },
    {
      "cell_type": "code",
      "execution_count": null,
      "id": "424a300b",
      "metadata": {
        "id": "424a300b",
        "outputId": "0a181453-d91c-4dbf-c0a5-39223cc9e580"
      },
      "outputs": [
        {
          "name": "stdout",
          "output_type": "stream",
          "text": [
            " [[ 90  96 102]\n",
            " [216 231 246]\n",
            " [342 366 390]]\n"
          ]
        }
      ],
      "source": [
        "resultarray=np.dot(array1,array2)\n",
        "print(\"\",resultarray)"
      ]
    },
    {
      "cell_type": "markdown",
      "id": "421df1a8",
      "metadata": {
        "id": "421df1a8"
      },
      "source": [
        "## 1.7. Transpose"
      ]
    },
    {
      "cell_type": "code",
      "execution_count": null,
      "id": "2d95ebad",
      "metadata": {
        "id": "2d95ebad",
        "outputId": "a3686e97-050f-4965-eddb-ec9be5209945"
      },
      "outputs": [
        {
          "name": "stdout",
          "output_type": "stream",
          "text": [
            "[[1 4 7]\n",
            " [2 5 8]\n",
            " [3 6 9]]\n",
            "[[1 4 7]\n",
            " [2 5 8]\n",
            " [3 6 9]]\n"
          ]
        }
      ],
      "source": [
        "resultarray=np.transpose(array1)\n",
        "print(resultarray)\n",
        "#Or\n",
        "resultarray=array1.transpose()\n",
        "print(resultarray)"
      ]
    },
    {
      "cell_type": "markdown",
      "id": "57952e14",
      "metadata": {
        "id": "57952e14"
      },
      "source": [
        "# 2. Horizontal and vertical stacking of Numpy Arrays"
      ]
    },
    {
      "cell_type": "markdown",
      "id": "e9d2aede",
      "metadata": {
        "id": "e9d2aede"
      },
      "source": [
        "## 2.1. Horizontal Stacking"
      ]
    },
    {
      "cell_type": "code",
      "execution_count": null,
      "id": "83ad3151",
      "metadata": {
        "id": "83ad3151",
        "outputId": "2fb9618a-1c16-4c84-85ae-81b8b92fdd6e"
      },
      "outputs": [
        {
          "data": {
            "text/plain": [
              "array([[ 1,  2,  3, 11, 12, 13],\n",
              "       [ 4,  5,  6, 14, 15, 16],\n",
              "       [ 7,  8,  9, 17, 18, 19]])"
            ]
          },
          "execution_count": 27,
          "metadata": {},
          "output_type": "execute_result"
        }
      ],
      "source": [
        "\n",
        "resultarray=np.hstack((array1,array2))\n",
        "resultarray"
      ]
    },
    {
      "cell_type": "markdown",
      "id": "2c742c57",
      "metadata": {
        "id": "2c742c57"
      },
      "source": [
        "## 2.2. Vertical Stacking"
      ]
    },
    {
      "cell_type": "code",
      "execution_count": null,
      "id": "a884c273",
      "metadata": {
        "id": "a884c273",
        "outputId": "3e0d7efe-e534-48db-9dbb-6745b264d003"
      },
      "outputs": [
        {
          "data": {
            "text/plain": [
              "array([[ 1,  2,  3],\n",
              "       [ 4,  5,  6],\n",
              "       [ 7,  8,  9],\n",
              "       [11, 12, 13],\n",
              "       [14, 15, 16],\n",
              "       [17, 18, 19]])"
            ]
          },
          "execution_count": 29,
          "metadata": {},
          "output_type": "execute_result"
        }
      ],
      "source": [
        "resultarray=np.vstack((array1,array2))\n",
        "resultarray"
      ]
    },
    {
      "cell_type": "markdown",
      "id": "19681f7f",
      "metadata": {
        "id": "19681f7f"
      },
      "source": [
        "# 3.Custom sequence generation"
      ]
    },
    {
      "cell_type": "markdown",
      "id": "9f7c216c",
      "metadata": {
        "id": "9f7c216c"
      },
      "source": [
        "## 3.1. Range"
      ]
    },
    {
      "cell_type": "code",
      "execution_count": null,
      "id": "e68b6d48",
      "metadata": {
        "id": "e68b6d48",
        "outputId": "ff605ed6-9106-4af6-84a1-9b9bcb6a3c5d"
      },
      "outputs": [
        {
          "data": {
            "text/plain": [
              "array([[ 0,  1,  2,  3],\n",
              "       [ 4,  5,  6,  7],\n",
              "       [ 8,  9, 10, 11]])"
            ]
          },
          "execution_count": 3,
          "metadata": {},
          "output_type": "execute_result"
        }
      ],
      "source": [
        "import numpy as np\n",
        "nparray=np.arange(0,12,1).reshape(3,4)\n",
        "nparray"
      ]
    },
    {
      "cell_type": "markdown",
      "id": "1643d6cf",
      "metadata": {
        "id": "1643d6cf"
      },
      "source": [
        "## 3.2. Linearly Separable"
      ]
    },
    {
      "cell_type": "code",
      "execution_count": null,
      "id": "8fa1458c",
      "metadata": {
        "id": "8fa1458c",
        "outputId": "17c5c48c-c18b-471b-a6c2-b8ddaddb032d"
      },
      "outputs": [
        {
          "data": {
            "text/plain": [
              "array([[ 0.        ,  2.18181818,  4.36363636,  6.54545455],\n",
              "       [ 8.72727273, 10.90909091, 13.09090909, 15.27272727],\n",
              "       [17.45454545, 19.63636364, 21.81818182, 24.        ]])"
            ]
          },
          "execution_count": 39,
          "metadata": {},
          "output_type": "execute_result"
        }
      ],
      "source": [
        "nparray=np.linspace(start=0,stop=24,num=12).reshape(3,4)\n",
        "nparray"
      ]
    },
    {
      "cell_type": "markdown",
      "id": "9a483563",
      "metadata": {
        "id": "9a483563"
      },
      "source": [
        "## 3.3. Empty Array"
      ]
    },
    {
      "cell_type": "code",
      "execution_count": null,
      "id": "52b786ab",
      "metadata": {
        "id": "52b786ab",
        "outputId": "2d55ac54-7f78-4664-f173-fa3731229045"
      },
      "outputs": [
        {
          "data": {
            "text/plain": [
              "array([[ 11,  24,  39],\n",
              "       [ 56,  75,  96],\n",
              "       [119, 144, 171]])"
            ]
          },
          "execution_count": 41,
          "metadata": {},
          "output_type": "execute_result"
        }
      ],
      "source": [
        "nparray=np.empty((3,3),int)\n",
        "nparray"
      ]
    },
    {
      "cell_type": "markdown",
      "id": "c4e624c8",
      "metadata": {
        "id": "c4e624c8"
      },
      "source": [
        "## 3.4. Emply Like Some other array"
      ]
    },
    {
      "cell_type": "code",
      "execution_count": null,
      "id": "8923a9d6",
      "metadata": {
        "id": "8923a9d6",
        "outputId": "039548b2-b104-42db-aafd-d14ab656c216"
      },
      "outputs": [
        {
          "data": {
            "text/plain": [
              "array([[ 90,  96, 102],\n",
              "       [216, 231, 246],\n",
              "       [342, 366, 390]])"
            ]
          },
          "execution_count": 42,
          "metadata": {},
          "output_type": "execute_result"
        }
      ],
      "source": [
        "nparray=np.empty_like(array1)\n",
        "nparray"
      ]
    },
    {
      "cell_type": "markdown",
      "id": "c5037270",
      "metadata": {
        "id": "c5037270"
      },
      "source": [
        "## 3.5. Identity Matrix"
      ]
    },
    {
      "cell_type": "code",
      "execution_count": null,
      "id": "33888c02",
      "metadata": {
        "id": "33888c02",
        "outputId": "bcd593bc-3488-45f4-b0af-bc0187baff06"
      },
      "outputs": [
        {
          "data": {
            "text/plain": [
              "array([[1., 0., 0.],\n",
              "       [0., 1., 0.],\n",
              "       [0., 0., 1.]])"
            ]
          },
          "execution_count": 44,
          "metadata": {},
          "output_type": "execute_result"
        }
      ],
      "source": [
        "nparray=np.identity(3)\n",
        "nparray"
      ]
    },
    {
      "cell_type": "markdown",
      "id": "d915e969",
      "metadata": {
        "id": "d915e969"
      },
      "source": [
        "# 4. Arithmetic and Statistical Operations, Mathematical Operations, Bitwise Operators"
      ]
    },
    {
      "cell_type": "markdown",
      "id": "9dee72d6",
      "metadata": {
        "id": "9dee72d6"
      },
      "source": [
        "## 4.1. Arithmetic Operation"
      ]
    },
    {
      "cell_type": "code",
      "execution_count": null,
      "id": "5dc6e743",
      "metadata": {
        "id": "5dc6e743",
        "outputId": "6d7c5f85-6016-4dd1-e712-8bbc3023b6c6"
      },
      "outputs": [
        {
          "name": "stdout",
          "output_type": "stream",
          "text": [
            "[1 2 3 4 5]\n",
            "[11 12 13 14 15]\n"
          ]
        }
      ],
      "source": [
        "array1=np.array([1,2,3,4,5])\n",
        "array2=np.array([11,12,13,14,15])\n",
        "print(array1)\n",
        "print(array2)"
      ]
    },
    {
      "cell_type": "code",
      "execution_count": null,
      "id": "9bdce61b",
      "metadata": {
        "id": "9bdce61b",
        "outputId": "14e2e729-48cf-4c8e-9e1c-daa7a6e90c9e"
      },
      "outputs": [
        {
          "name": "stdout",
          "output_type": "stream",
          "text": [
            "[12 14 16 18 20]\n",
            "[-10 -10 -10 -10 -10]\n",
            "[11 24 39 56 75]\n",
            "[0.09090909 0.16666667 0.23076923 0.28571429 0.33333333]\n"
          ]
        }
      ],
      "source": [
        "# Addition\n",
        "print(np.add(array1,array2))\n",
        "# Subtraction\n",
        "print(np.subtract(array1,array2))\n",
        "# Multiplication\n",
        "print(np.multiply(array1,array2))\n",
        "# Division\n",
        "print(np.divide(array1,array2))"
      ]
    },
    {
      "cell_type": "markdown",
      "id": "48277c71",
      "metadata": {
        "id": "48277c71"
      },
      "source": [
        "## 4.2. Statistical and Mathematical Operations"
      ]
    },
    {
      "cell_type": "code",
      "execution_count": null,
      "id": "0dd090df",
      "metadata": {
        "id": "0dd090df",
        "outputId": "ed805b4c-9ce9-474e-bf90-13d6f1d8bb5f"
      },
      "outputs": [
        {
          "name": "stdout",
          "output_type": "stream",
          "text": [
            "2.7990553306073913\n",
            "1\n",
            "63\n",
            "6.0\n",
            "5.7272727272727275\n",
            "Most Frequent element= [9]\n",
            "Number of Occarances= [3]\n",
            "7.834710743801653\n"
          ]
        }
      ],
      "source": [
        "array1=np.array([1,2,3,4,5,9,6,7,8,9,9])\n",
        "# Standard Deviation\n",
        "print(np.std(array1))\n",
        "#Minimum\n",
        "print(np.min(array1))\n",
        "#Summation\n",
        "print(np.sum(array1))\n",
        "#Median\n",
        "print(np.median(array1))\n",
        "#Mean\n",
        "print(np.mean(array1))\n",
        "#Mode\n",
        "from scipy import stats\n",
        "print(\"Most Frequent element=\",stats.mode(array1)[0])\n",
        "print(\"Number of Occarances=\",stats.mode(array1)[1])\n",
        "# Variance\n",
        "print(np.var(array1))"
      ]
    },
    {
      "cell_type": "markdown",
      "id": "77e24845",
      "metadata": {
        "id": "77e24845"
      },
      "source": [
        "## 4.3. Bitwise Operations"
      ]
    },
    {
      "cell_type": "code",
      "execution_count": null,
      "id": "2afff7b9",
      "metadata": {
        "id": "2afff7b9",
        "outputId": "5d5a8660-55a0-4f08-de09-5b5eaa0ea2a6"
      },
      "outputs": [
        {
          "name": "stdout",
          "output_type": "stream",
          "text": [
            "[0 0 2]\n",
            "[5 7 7]\n",
            "[ 4  8 12]\n",
            "[0 0 0]\n"
          ]
        }
      ],
      "source": [
        "array1=np.array([1,2,3],dtype=np.uint8)\n",
        "array2=np.array([4,5,6])\n",
        "# AND\n",
        "resultarray=np.bitwise_and(array1,array2)\n",
        "print(resultarray)\n",
        "# OR\n",
        "resultarray=np.bitwise_or(array1,array2)\n",
        "print(resultarray)\n",
        "#LeftShift\n",
        "resultarray=np.left_shift(array1,2)\n",
        "print(resultarray)\n",
        "#RightShift\n",
        "resultarray=np.right_shift(array1,2)\n",
        "print(resultarray)"
      ]
    },
    {
      "cell_type": "code",
      "execution_count": null,
      "id": "ac245f5c",
      "metadata": {
        "id": "ac245f5c",
        "outputId": "d7805543-7b94-4277-eafd-d52b36d7c83c"
      },
      "outputs": [
        {
          "name": "stdout",
          "output_type": "stream",
          "text": [
            "00001010\n",
            "40\n",
            "00101000\n"
          ]
        }
      ],
      "source": [
        " ### You can get Binary Representation of Number ######\n",
        "print(np.binary_repr(10,8))\n",
        "resultarray=np.left_shift(10,2)\n",
        "print(resultarray)\n",
        "print(np.binary_repr(np.left_shift(10,2),8))"
      ]
    },
    {
      "cell_type": "markdown",
      "id": "dda4bda3",
      "metadata": {
        "id": "dda4bda3"
      },
      "source": [
        "# 5.Copying and viewing arrays"
      ]
    },
    {
      "cell_type": "markdown",
      "id": "fb492fc1",
      "metadata": {
        "id": "fb492fc1"
      },
      "source": [
        "## 5.1 Copy"
      ]
    },
    {
      "cell_type": "code",
      "execution_count": null,
      "id": "66d610a4",
      "metadata": {
        "id": "66d610a4",
        "outputId": "10c93024-ed81-4565-c976-07d9e33c3671"
      },
      "outputs": [
        {
          "name": "stdout",
          "output_type": "stream",
          "text": [
            "[1 2 3 4 5 6 7 8 9]\n",
            "[1 2 3 4 5 6 7 8 9]\n",
            "[100   2   3   4   5   6   7   8   9]\n",
            "[1 2 3 4 5 6 7 8 9]\n"
          ]
        }
      ],
      "source": [
        "array1=np.arange(1,10)\n",
        "print(array1)\n",
        "newarray=array1.copy()\n",
        "print(newarray)\n",
        "##modification in Original Array\n",
        "array1[0]=100\n",
        "print(array1)\n",
        "print(newarray)"
      ]
    },
    {
      "cell_type": "markdown",
      "id": "7c5be3c5",
      "metadata": {
        "id": "7c5be3c5"
      },
      "source": [
        "# 5.2 View"
      ]
    },
    {
      "cell_type": "code",
      "execution_count": null,
      "id": "21487364",
      "metadata": {
        "id": "21487364",
        "outputId": "050ddbc9-9364-442f-edd8-e2aa16a6e3fb"
      },
      "outputs": [
        {
          "name": "stdout",
          "output_type": "stream",
          "text": [
            "[1 2 3 4 5 6 7 8 9]\n",
            "[1 2 3 4 5 6 7 8 9]\n",
            "[100   2   3   4   5   6   7   8   9]\n",
            "[100   2   3   4   5   6   7   8   9]\n"
          ]
        }
      ],
      "source": [
        "array1=np.arange(1,10)\n",
        "print(array1)\n",
        "newarray=array1.view()\n",
        "print(newarray)\n",
        "##modification in Original Array\n",
        "array1[0]=100\n",
        "print(array1)\n",
        "print(newarray)"
      ]
    },
    {
      "cell_type": "markdown",
      "id": "edaa4966",
      "metadata": {
        "id": "edaa4966"
      },
      "source": [
        "# 6. Searching"
      ]
    },
    {
      "cell_type": "code",
      "execution_count": null,
      "id": "31ec6b1c",
      "metadata": {
        "id": "31ec6b1c",
        "outputId": "a9a193e7-8ae9-4152-a51d-e73d7cd869bc"
      },
      "outputs": [
        {
          "name": "stdout",
          "output_type": "stream",
          "text": [
            "[[ 1  2  3 12  5  7]\n",
            " [94  5  6  7 89 44]\n",
            " [ 7  8  9 11 13 14]]\n"
          ]
        }
      ],
      "source": [
        "array1=np.array([[1,2,3,12,5,7],[94,5,6,7,89,44],[7,8,9,11,13,14]])\n",
        "print(array1)"
      ]
    },
    {
      "cell_type": "code",
      "execution_count": null,
      "id": "e46e441a",
      "metadata": {
        "id": "e46e441a",
        "outputId": "35dca05f-79b2-4a32-91f5-12d3ca86ed44"
      },
      "outputs": [
        {
          "data": {
            "text/plain": [
              "array([[ 1,  2,  3,  7,  5,  7],\n",
              "       [ 7,  5,  6, 11, 13, 14],\n",
              "       [94,  8,  9, 12, 89, 44]])"
            ]
          },
          "execution_count": 105,
          "metadata": {},
          "output_type": "execute_result"
        }
      ],
      "source": [
        "np.sort(array1,axis=0)#Horizontally Sort"
      ]
    },
    {
      "cell_type": "code",
      "execution_count": null,
      "id": "a3c06850",
      "metadata": {
        "id": "a3c06850",
        "outputId": "92c6966f-6c81-4d95-b619-44cebf966540"
      },
      "outputs": [
        {
          "data": {
            "text/plain": [
              "array([[ 1,  2,  3,  5,  7, 12],\n",
              "       [ 5,  6,  7, 44, 89, 94],\n",
              "       [ 7,  8,  9, 11, 13, 14]])"
            ]
          },
          "execution_count": 107,
          "metadata": {},
          "output_type": "execute_result"
        }
      ],
      "source": [
        "np.sort(array1,axis=1)# Vertically Sort"
      ]
    },
    {
      "cell_type": "markdown",
      "id": "824b57f5",
      "metadata": {
        "id": "824b57f5"
      },
      "source": [
        "# 7. Searching"
      ]
    },
    {
      "cell_type": "code",
      "execution_count": null,
      "id": "9611b959",
      "metadata": {
        "id": "9611b959",
        "outputId": "07f4d16d-0125-4077-c371-b3a67023b4b7"
      },
      "outputs": [
        {
          "data": {
            "text/plain": [
              "3"
            ]
          },
          "execution_count": 115,
          "metadata": {},
          "output_type": "execute_result"
        }
      ],
      "source": [
        "array1=np.array([1,2,3,12,5,7])\n",
        "np.searchsorted(array1,7,side=\"left\")#Perform Search After sorting"
      ]
    },
    {
      "cell_type": "markdown",
      "id": "cdc50d5d",
      "metadata": {
        "id": "cdc50d5d"
      },
      "source": [
        "# 8. Counting"
      ]
    },
    {
      "cell_type": "code",
      "execution_count": null,
      "id": "6f937553",
      "metadata": {
        "id": "6f937553",
        "outputId": "dc823c2f-3df5-485c-a936-6e98697556f4"
      },
      "outputs": [
        {
          "name": "stdout",
          "output_type": "stream",
          "text": [
            "6\n",
            "(array([0, 1, 2, 3, 4, 5], dtype=int64),)\n",
            "7\n"
          ]
        }
      ],
      "source": [
        "array1=np.array([1,2,3,12,5,7,0])\n",
        "print(np.count_nonzero(array1))#Return total Non Zero element\n",
        "print(np.nonzero(array1))#Return Index\n",
        "print(array1.size)#Total Element\n"
      ]
    },
    {
      "cell_type": "markdown",
      "id": "36f25d18",
      "metadata": {
        "id": "36f25d18"
      },
      "source": [
        "# 9. Data Stacking"
      ]
    },
    {
      "cell_type": "code",
      "execution_count": null,
      "id": "134b5e73",
      "metadata": {
        "id": "134b5e73",
        "outputId": "e8b847c2-8b64-4968-9f6d-df52420fd3ad"
      },
      "outputs": [
        {
          "name": "stdout",
          "output_type": "stream",
          "text": [
            "[[1 2]\n",
            " [3 4]]\n",
            "[[11 12]\n",
            " [13 14]]\n"
          ]
        }
      ],
      "source": [
        "array1=np.array(np.arange(1,5).reshape(2,2))\n",
        "print(array1)\n",
        "array2=np.array(np.arange(11,15).reshape(2,2))\n",
        "print(array2)"
      ]
    },
    {
      "cell_type": "code",
      "execution_count": null,
      "id": "c4db25a6",
      "metadata": {
        "id": "c4db25a6",
        "outputId": "caf56953-a926-489b-934a-f146c00e6c6f"
      },
      "outputs": [
        {
          "name": "stdout",
          "output_type": "stream",
          "text": [
            "[[[ 1  2]\n",
            "  [ 3  4]]\n",
            "\n",
            " [[11 12]\n",
            "  [13 14]]]\n"
          ]
        }
      ],
      "source": [
        "newarray=np.stack([array1,array2],axis=0)\n",
        "print(newarray)"
      ]
    },
    {
      "cell_type": "code",
      "execution_count": null,
      "id": "96b50293",
      "metadata": {
        "id": "96b50293",
        "outputId": "c4709404-1f04-445d-bcb6-49048df2512a"
      },
      "outputs": [
        {
          "name": "stdout",
          "output_type": "stream",
          "text": [
            "[[[ 1  2]\n",
            "  [11 12]]\n",
            "\n",
            " [[ 3  4]\n",
            "  [13 14]]]\n"
          ]
        }
      ],
      "source": [
        "newarray=np.stack([array1,array2],axis=1)\n",
        "print(newarray)"
      ]
    },
    {
      "cell_type": "markdown",
      "id": "fa3f5811",
      "metadata": {
        "id": "fa3f5811"
      },
      "source": [
        "# 10. Append"
      ]
    },
    {
      "cell_type": "code",
      "execution_count": null,
      "id": "8a6ae60f",
      "metadata": {
        "id": "8a6ae60f",
        "outputId": "69771e47-9a6a-46d2-d789-cac48506d401"
      },
      "outputs": [
        {
          "name": "stdout",
          "output_type": "stream",
          "text": [
            "[[1 2 3]\n",
            " [4 5 6]\n",
            " [7 8 9]]\n",
            "[[21 22 23]\n",
            " [24 25 26]\n",
            " [27 28 29]]\n"
          ]
        }
      ],
      "source": [
        "array1=np.arange(1,10).reshape(3,3)\n",
        "print(array1)\n",
        "array2=np.arange(21,30).reshape(3,3)\n",
        "print(array2)"
      ]
    },
    {
      "cell_type": "code",
      "execution_count": null,
      "id": "cc88f47c",
      "metadata": {
        "id": "cc88f47c",
        "outputId": "07fbb1fc-71cc-47ed-d52b-76a06211a704"
      },
      "outputs": [
        {
          "data": {
            "text/plain": [
              "array([[ 1,  2,  3],\n",
              "       [ 4,  5,  6],\n",
              "       [ 7,  8,  9],\n",
              "       [21, 22, 23],\n",
              "       [24, 25, 26],\n",
              "       [27, 28, 29]])"
            ]
          },
          "execution_count": 129,
          "metadata": {},
          "output_type": "execute_result"
        }
      ],
      "source": [
        "np.append(array1,array2,axis=0)"
      ]
    },
    {
      "cell_type": "code",
      "execution_count": null,
      "id": "9abb6366",
      "metadata": {
        "id": "9abb6366",
        "outputId": "8c3f75d6-9eb2-4b2c-8282-5863fd1fddbf"
      },
      "outputs": [
        {
          "data": {
            "text/plain": [
              "array([[ 1,  2,  3, 21, 22, 23],\n",
              "       [ 4,  5,  6, 24, 25, 26],\n",
              "       [ 7,  8,  9, 27, 28, 29]])"
            ]
          },
          "execution_count": 130,
          "metadata": {},
          "output_type": "execute_result"
        }
      ],
      "source": [
        "np.append(array1,array2,axis=1)"
      ]
    },
    {
      "cell_type": "markdown",
      "id": "badbea41",
      "metadata": {
        "id": "badbea41"
      },
      "source": [
        "# 11. Concat"
      ]
    },
    {
      "cell_type": "code",
      "execution_count": null,
      "id": "c6029bae",
      "metadata": {
        "id": "c6029bae",
        "outputId": "fc2e51d2-2d6f-4229-bf15-c1b442c56eba"
      },
      "outputs": [
        {
          "name": "stdout",
          "output_type": "stream",
          "text": [
            "[[1 2 3]\n",
            " [4 5 6]\n",
            " [7 8 9]]\n",
            "[[21 22 23]\n",
            " [24 25 26]\n",
            " [27 28 29]]\n"
          ]
        }
      ],
      "source": [
        "array1=np.arange(1,10).reshape(3,3)\n",
        "print(array1)\n",
        "array2=np.arange(21,30).reshape(3,3)\n",
        "print(array2)"
      ]
    },
    {
      "cell_type": "code",
      "execution_count": null,
      "id": "7d31165b",
      "metadata": {
        "id": "7d31165b",
        "outputId": "2028ec71-ed65-4349-b1dd-545cc35ee9f5"
      },
      "outputs": [
        {
          "data": {
            "text/plain": [
              "array([[ 1,  2,  3],\n",
              "       [ 4,  5,  6],\n",
              "       [ 7,  8,  9],\n",
              "       [21, 22, 23],\n",
              "       [24, 25, 26],\n",
              "       [27, 28, 29]])"
            ]
          },
          "execution_count": 133,
          "metadata": {},
          "output_type": "execute_result"
        }
      ],
      "source": [
        "np.concatenate((array1,array2),axis=0)"
      ]
    },
    {
      "cell_type": "code",
      "execution_count": null,
      "id": "586dc0c8",
      "metadata": {
        "id": "586dc0c8",
        "outputId": "a03ee9a8-4080-4570-d44e-6de666d1793e"
      },
      "outputs": [
        {
          "data": {
            "text/plain": [
              "array([[ 1,  2,  3, 21, 22, 23],\n",
              "       [ 4,  5,  6, 24, 25, 26],\n",
              "       [ 7,  8,  9, 27, 28, 29]])"
            ]
          },
          "execution_count": 134,
          "metadata": {},
          "output_type": "execute_result"
        }
      ],
      "source": [
        "np.concatenate((array1,array2),axis=1)"
      ]
    },
    {
      "cell_type": "code",
      "execution_count": null,
      "id": "745751af",
      "metadata": {
        "id": "745751af",
        "outputId": "60860742-8ebd-4b17-ccbd-37c6618dda7c"
      },
      "outputs": [
        {
          "name": "stdout",
          "output_type": "stream",
          "text": [
            "<class 'numpy.ndarray'>\n"
          ]
        },
        {
          "data": {
            "text/plain": [
              "(10, 5)"
            ]
          },
          "execution_count": 3,
          "metadata": {},
          "output_type": "execute_result"
        }
      ],
      "source": [
        "import numpy as np\n",
        "\n",
        "# using loadtxt()\n",
        "arr = np.loadtxt(\"F:\\\\ISO\\\\EDS\\\\NOTES\\\\dataset\\\\testmarks1.csv\",delimiter=\",\",skiprows=1)\n",
        "print(type(arr))\n",
        "arr.shape"
      ]
    },
    {
      "cell_type": "raw",
      "id": "f3586bc4",
      "metadata": {
        "id": "f3586bc4"
      },
      "source": []
    },
    {
      "cell_type": "code",
      "execution_count": null,
      "id": "c14ae591",
      "metadata": {
        "id": "c14ae591"
      },
      "outputs": [],
      "source": [
        "EDS=arr[:,1]"
      ]
    },
    {
      "cell_type": "code",
      "execution_count": null,
      "id": "6314838a",
      "metadata": {
        "id": "6314838a",
        "outputId": "736bc22f-7185-49f9-929a-c55c2ba8bcfb"
      },
      "outputs": [
        {
          "name": "stdout",
          "output_type": "stream",
          "text": [
            "[43.05 43.47 42.24 39.24 40.9  39.47 41.68 42.19 44.75 46.95]\n"
          ]
        }
      ],
      "source": [
        "print(EDS)"
      ]
    },
    {
      "cell_type": "code",
      "execution_count": null,
      "id": "f570e360",
      "metadata": {
        "id": "f570e360",
        "outputId": "9a83fdba-4d12-4fcf-fcc7-5b6a6e95c2fe"
      },
      "outputs": [
        {
          "name": "stdout",
          "output_type": "stream",
          "text": [
            "[27.79 28.52 28.16 26.16 26.03 26.31 25.63 27.61 28.35 28.88]\n"
          ]
        }
      ],
      "source": [
        "SON=arr[:,2]\n",
        "print(SON)"
      ]
    },
    {
      "cell_type": "code",
      "execution_count": null,
      "id": "fbd06138",
      "metadata": {
        "id": "fbd06138"
      },
      "outputs": [],
      "source": []
    },
    {
      "cell_type": "code",
      "execution_count": null,
      "id": "990cbb82",
      "metadata": {
        "id": "990cbb82"
      },
      "outputs": [],
      "source": []
    }
  ],
  "metadata": {
    "kernelspec": {
      "display_name": "Python 3 (ipykernel)",
      "language": "python",
      "name": "python3"
    },
    "language_info": {
      "codemirror_mode": {
        "name": "ipython",
        "version": 3
      },
      "file_extension": ".py",
      "mimetype": "text/x-python",
      "name": "python",
      "nbconvert_exporter": "python",
      "pygments_lexer": "ipython3",
      "version": "3.9.7"
    },
    "colab": {
      "provenance": []
    }
  },
  "nbformat": 4,
  "nbformat_minor": 5
}